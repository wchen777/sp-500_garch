{
 "cells": [
  {
   "cell_type": "code",
   "execution_count": null,
   "id": "152ee7be",
   "metadata": {},
   "outputs": [],
   "source": [
    "import numpy as np\n",
    "from scipy import optimize\n",
    "import matplotlib.pyplot as plt\n",
    "\n",
    "NUM_ITERS = 1000\n",
    "BURN_IN = 100\n",
    "\n",
    "\n",
    "'''\n",
    "prior(omega) follows an inverse gamma distribution\n",
    "'''\n",
    "def sample_omega_prior(g_alpha, g_beta):\n",
    "    \n",
    "    return scipy.stats.invgamma.rvs(g_alpha, scale=g_beta, size=1)\n",
    "    \n",
    "\n",
    "\n",
    "def log_likelihood():\n",
    "    \n",
    "    return\n",
    "    \n",
    "\n",
    "def metropolis_hastings_garch():\n",
    "    \n",
    "    '''\n",
    "    Start with an initial state, which can be any value within the parameter space.\n",
    "\n",
    "    Choose a proposal distribution, which is a probability distribution that specifies \n",
    "    how to generate a new candidate state given the current state. \n",
    "    In the GARCH case, for parameters\n",
    "\n",
    "    Generate a candidate state by drawing a sample from the proposal distribution.\n",
    "\n",
    "    Compute the acceptance ratio, which is the ratio of the posterior probability of \n",
    "    the candidate state to the posterior probability of the current state.\n",
    "\n",
    "    Accept or reject the candidate state based on the acceptance ratio. \n",
    "    If the acceptance ratio is greater than or equal to 1, \n",
    "    then accept the candidate state as the new current state. \n",
    "    If the acceptance ratio is less than 1, \n",
    "    then accept the candidate state with probability equal to the acceptance ratio, \n",
    "    otherwise reject the candidate state and keep the current state as is.\n",
    "\n",
    "    '''\n",
    "    \n",
    "    return\n",
    "    \n",
    "    \n"
   ]
  }
 ],
 "metadata": {
  "kernelspec": {
   "display_name": "Python 3",
   "language": "python",
   "name": "python3"
  },
  "language_info": {
   "codemirror_mode": {
    "name": "ipython",
    "version": 3
   },
   "file_extension": ".py",
   "mimetype": "text/x-python",
   "name": "python",
   "nbconvert_exporter": "python",
   "pygments_lexer": "ipython3",
   "version": "3.6.2"
  }
 },
 "nbformat": 4,
 "nbformat_minor": 5
}
