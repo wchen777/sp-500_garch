{
 "cells": [
  {
   "cell_type": "code",
   "execution_count": null,
   "id": "5d3ae117",
   "metadata": {},
   "outputs": [],
   "source": [
    "import numpy as np\n",
    "from scipy import stats\n",
    "import matplotlib.pyplot as plt\n",
    "\n",
    "\n",
    "OMEGA_PATH = \"../data/omega_test.txt\"\n",
    "ALPHA_PATH = \"../data/alpha_test.txt\"\n",
    "BETA_PATH = \"../data/beta_test.txt\"\n",
    "\n",
    "OMEGA_PRIOR_PATH = \"../data/omega_prior.txt\"\n",
    "ALPHA_PRIOR_PATH = \"../data/alpha_prior.txt\"\n",
    "BETA_PRIOR_PATH = \"../data/beta_prior.txt\"\n",
    "\n",
    "\n",
    "o = np.loadtxt(OMEGA_PATH)\n",
    "a = np.loadtxt(ALPHA_PATH)\n",
    "b = np.loadtxt(BETA_PATH)\n",
    "\n",
    "o_prior = np.loadtxt(OMEGA_PRIOR_PATH)\n",
    "a_prior = np.loadtxt(ALPHA_PRIOR_PATH)\n",
    "b_prior = np.loadtxt(BETA_PRIOR_PATH)"
   ]
  }
 ],
 "metadata": {
  "kernelspec": {
   "display_name": "Python 3",
   "language": "python",
   "name": "python3"
  },
  "language_info": {
   "codemirror_mode": {
    "name": "ipython",
    "version": 3
   },
   "file_extension": ".py",
   "mimetype": "text/x-python",
   "name": "python",
   "nbconvert_exporter": "python",
   "pygments_lexer": "ipython3",
   "version": "3.6.2"
  }
 },
 "nbformat": 4,
 "nbformat_minor": 5
}
