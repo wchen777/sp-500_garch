{
 "cells": [
  {
   "cell_type": "code",
   "execution_count": 16,
   "id": "dd164886",
   "metadata": {},
   "outputs": [
    {
     "data": {
      "image/png": "[encoded data removed]",
      "text/plain": [
       "<Figure size 432x288 with 1 Axes>"
      ]
     },
     "metadata": {
      "needs_background": "light"
     },
     "output_type": "display_data"
    },
    {
     "name": "stdout",
     "output_type": "stream",
     "text": [
      "0.035112950552690904\n",
      "0.049039574959176664\n",
      "Ttest_indResult(statistic=-29.42498452620909, pvalue=2.0419130632981254e-186)\n"
     ]
    }
   ],
   "source": [
    "import numpy as np\n",
    "from scipy import stats\n",
    "import matplotlib.pyplot as plt\n",
    "\n",
    "\n",
    "OMEGA_PATH = \"../data/omega_test.txt\"\n",
    "ALPHA_PATH = \"../data/alpha_test.txt\"\n",
    "BETA_PATH = \"../data/beta_test.txt\"\n",
    "\n",
    "OMEGA_PRIOR_PATH = \"../data/omega_prior.txt\"\n",
    "ALPHA_PRIOR_PATH = \"../data/alpha_prior.txt\"\n",
    "BETA_PRIOR_PATH = \"../data/beta_prior.txt\"\n",
    "\n",
    "\n",
    "o = np.loadtxt(OMEGA_PATH)\n",
    "a = np.loadtxt(ALPHA_PATH)\n",
    "b = np.loadtxt(BETA_PATH)\n",
    "\n",
    "o_prior = np.loadtxt(OMEGA_PRIOR_PATH)\n",
    "a_prior = np.loadtxt(ALPHA_PRIOR_PATH)\n",
    "b_prior = np.loadtxt(BETA_PRIOR_PATH)\n",
    "\n",
    "\n",
    "kde_o_ = stats.gaussian_kde(o)\n",
    "kde_o_prior = stats.gaussian_kde(o_prior) \n",
    "\n",
    "x_o_ = np.linspace(np.min(o), np.max(o), 1000)\n",
    "p_o_ = kde_o_(x_o_)\n",
    "\n",
    "x_o_prior = np.linspace(np.min(o_prior), np.max(o_prior), 1000)\n",
    "p_o_prior = kde_o_(x_o_prior)\n",
    "\n",
    "plt.plot(x_o_, p_o_, color='g', label=\"posterior\")\n",
    "plt.legend()\n",
    "plt.plot(x_o_prior, p_o_prior, color='c', label=\"prior\")\n",
    "plt.legend()\n",
    "plt.title(\"ω Joint Distribution Test\", fontsize=15)\n",
    "plt.show()\n",
    "\n",
    "print(np.mean(o))\n",
    "print(np.mean(o_prior))\n",
    "print(stats.ttest_ind(o, o_prior))\n",
    "\n"
   ]
  },
  {
   "cell_type": "code",
   "execution_count": null,
   "id": "00929f24",
   "metadata": {},
   "outputs": [],
   "source": []
  },
  {
   "cell_type": "code",
   "execution_count": null,
   "id": "b4af46e5",
   "metadata": {},
   "outputs": [],
   "source": []
  },
  {
   "cell_type": "code",
   "execution_count": null,
   "id": "094f474b",
   "metadata": {},
   "outputs": [],
   "source": []
  },
  {
   "cell_type": "code",
   "execution_count": null,
   "id": "b3599277",
   "metadata": {},
   "outputs": [],
   "source": []
  }
 ],
 "metadata": {
  "kernelspec": {
   "display_name": "Python 3",
   "language": "python",
   "name": "python3"
  },
  "language_info": {
   "codemirror_mode": {
    "name": "ipython",
    "version": 3
   },
   "file_extension": ".py",
   "mimetype": "text/x-python",
   "name": "python",
   "nbconvert_exporter": "python",
   "pygments_lexer": "ipython3",
   "version": "3.6.2"
  }
 },
 "nbformat": 4,
 "nbformat_minor": 5
}
