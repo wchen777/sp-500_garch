{
 "cells": [
  {
   "cell_type": "code",
   "execution_count": null,
   "id": "fcb55362",
   "metadata": {},
   "outputs": [],
   "source": [
    "import numpy as np\n",
    "import pandas as pd\n",
    "\n",
    "import matplotlib.pyplot as pls\n",
    "import scipy"
   ]
  },
  {
   "cell_type": "code",
   "execution_count": null,
   "id": "dc109df2",
   "metadata": {},
   "outputs": [],
   "source": [
    "class GARCH_1_1:\n",
    "    \n",
    "    '''\n",
    "    Initialize log returns with returns passed in\n",
    "    '''\n",
    "    def __init__(self, returns):\n",
    "        self.log_returns = np.log(returns)\n",
    "        \n",
    "        \n",
    "    '''\n",
    "    Returns the variance expression of a GARCH(1,1) process.\n",
    "    '''\n",
    "    def garch_filter(self, omega, alpha, beta):\n",
    "               \n",
    "        # Length of log_returns\n",
    "        length = len(self.log_returns)\n",
    "        \n",
    "        # Initializing an empty array\n",
    "        sigma_sq = np.zeros(length)\n",
    "        \n",
    "        # Filling the array, if i == 0 then uses the long term variance.\n",
    "        for i in range(length):\n",
    "            if i == 0:\n",
    "                sigma_sq[i] = omega / (1 - alpha - beta)\n",
    "            else:\n",
    "                sigma_sq[i] = omega + alpha * self.log_returns[i-1]**2 + beta * sigma_sq[i-1]\n",
    "        \n",
    "        return sigma_sq\n",
    "    \n",
    "    '''\n",
    "    Defines the log likelihood sum to be optimized given the parameters.\n",
    "    '''\n",
    "    def garch_loglikehihood(self, parameters):\n",
    "        \n",
    "        length = len(self.log_returns)\n",
    "        \n",
    "        sigma_sq = self.garch_filter(parameters)\n",
    "        \n",
    "        log_likelihood = - np.sum(-np.log(sigma_sq) - self.log_returns**2 / sigma_sq)\n",
    "        \n",
    "        return log_likelihood\n",
    "    \n",
    "    ''' \n",
    "    Optimizes the log likelihood function and returns estimated coefficients\n",
    "    '''\n",
    "    def garch_optimization(self):\n",
    "        \n",
    "        # Parameters initialization\n",
    "        parameters = [.1, .05, .92]\n",
    "        \n",
    "        # Parameters optimization, scipy does not have a maximize function, so we minimize the opposite of the equation described earlier\n",
    "        opt = scipy.optimize.minimize(self.garch_loglikehihood, parameters,\n",
    "                                     bounds = ((.001,1),(.001,1),(.001,1)))\n",
    "        \n",
    "        variance = .01**2 * opt.x[0] / (1 - opt.x[1] - opt.x[2])   # Times .01**2 because it concerns squared returns\n",
    "        \n",
    "        return np.append(opt.x, variance)\n",
    "    "
   ]
  }
 ],
 "metadata": {
  "kernelspec": {
   "display_name": "Python 3",
   "language": "python",
   "name": "python3"
  },
  "language_info": {
   "codemirror_mode": {
    "name": "ipython",
    "version": 3
   },
   "file_extension": ".py",
   "mimetype": "text/x-python",
   "name": "python",
   "nbconvert_exporter": "python",
   "pygments_lexer": "ipython3",
   "version": "3.6.2"
  }
 },
 "nbformat": 4,
 "nbformat_minor": 5
}
